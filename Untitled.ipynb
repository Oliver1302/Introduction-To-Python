{
 "cells": [
  {
   "cell_type": "code",
   "execution_count": 46,
   "id": "e014897f",
   "metadata": {},
   "outputs": [
    {
     "data": {
      "text/plain": [
       "(2, 'big ticket')"
      ]
     },
     "execution_count": 46,
     "metadata": {},
     "output_type": "execute_result"
    }
   ],
   "source": [
    "def caught_speeding(speed,is_birthday):\n",
    "    if speed <=60:\n",
    "        return 0, 'no ticket'\n",
    "    elif speed<=65 and is_birthday == True:\n",
    "        return 0 , 'no ticket. Lucky Day'\n",
    "    if 61 <= speed <=80:\n",
    "        return 1, 'small ticket'\n",
    "    elif 61 <= speed <=85 and is_birthday == True:\n",
    "        return 1, 'small ticket. luckyday'\n",
    "    if speed > 81:\n",
    "        return 2, 'big ticket'\n",
    "    elif 81<= speed <=86 and is_birthday == True:\n",
    "        return 2, 'big ticket. luckyday'\n",
    "    \n",
    "    return\n",
    "caught_speeding(90,True)"
   ]
  },
  {
   "cell_type": "code",
   "execution_count": null,
   "id": "24e2b4a4",
   "metadata": {},
   "outputs": [],
   "source": []
  },
  {
   "cell_type": "code",
   "execution_count": null,
   "id": "566ee025",
   "metadata": {},
   "outputs": [],
   "source": []
  }
 ],
 "metadata": {
  "kernelspec": {
   "display_name": "Python 3",
   "language": "python",
   "name": "python3"
  },
  "language_info": {
   "codemirror_mode": {
    "name": "ipython",
    "version": 3
   },
   "file_extension": ".py",
   "mimetype": "text/x-python",
   "name": "python",
   "nbconvert_exporter": "python",
   "pygments_lexer": "ipython3",
   "version": "3.8.8"
  }
 },
 "nbformat": 4,
 "nbformat_minor": 5
}
