{
 "cells": [
  {
   "cell_type": "code",
   "execution_count": 46,
   "id": "1d18e53b",
   "metadata": {},
   "outputs": [
    {
     "data": {
      "text/plain": [
       "(2, 'big ticket')"
      ]
     },
     "execution_count": 46,
     "metadata": {},
     "output_type": "execute_result"
    }
   ],
   "source": [
    "def caught_speeding(speed,is_birthday):\n",
    "    if speed <=60:\n",
    "        return 0, 'no ticket'\n",
    "    elif speed<=65 and is_birthday == True:\n",
    "        return 0 , 'no ticket. Lucky Day'\n",
    "    if 61 <= speed <=80:\n",
    "        return 1, 'small ticket'\n",
    "    elif 61 <= speed <=85 and is_birthday == True:\n",
    "        return 1, 'small ticket. luckyday'\n",
    "    if speed > 81:\n",
    "        return 2, 'big ticket'\n",
    "    elif 81<= speed <=86 and is_birthday == True:\n",
    "        return 2, 'big ticket. luckyday'\n",
    "    \n",
    "    return\n",
    "caught_speeding(90,True)"
   ]
  },
  {
   "cell_type": "code",
   "execution_count": null,
   "id": "4e4560fd",
   "metadata": {},
   "outputs": [],
   "source": []
  },
  {
   "cell_type": "code",
   "execution_count": 8,
   "id": "ef242067",
   "metadata": {},
   "outputs": [
    {
     "ename": "SyntaxError",
     "evalue": "invalid syntax (<ipython-input-8-60ca324d051a>, line 5)",
     "output_type": "error",
     "traceback": [
      "\u001b[1;36m  File \u001b[1;32m\"<ipython-input-8-60ca324d051a>\"\u001b[1;36m, line \u001b[1;32m5\u001b[0m\n\u001b[1;33m    c = that we have ever received\u001b[0m\n\u001b[1;37m             ^\u001b[0m\n\u001b[1;31mSyntaxError\u001b[0m\u001b[1;31m:\u001b[0m invalid syntax\n"
     ]
    }
   ],
   "source": [
    "a = \" Alvin gives\"\n",
    "\n",
    "b = \" the easiest Assignments\"\n",
    "\n",
    "c = that we have ever received\n",
    "\n",
    "print(a+b+c)\n",
    "\n",
    "c=int(str)\n"
   ]
  },
  {
   "cell_type": "code",
   "execution_count": 3,
   "id": "95c3a1b4",
   "metadata": {},
   "outputs": [
    {
     "data": {
      "text/plain": [
       "9"
      ]
     },
     "execution_count": 3,
     "metadata": {},
     "output_type": "execute_result"
    }
   ],
   "source": [
    "int(9)"
   ]
  },
  {
   "cell_type": "code",
   "execution_count": 4,
   "id": "12bb4ff3",
   "metadata": {},
   "outputs": [
    {
     "data": {
      "text/plain": [
       "'9'"
      ]
     },
     "execution_count": 4,
     "metadata": {},
     "output_type": "execute_result"
    }
   ],
   "source": [
    "str(9)"
   ]
  },
  {
   "cell_type": "code",
   "execution_count": 5,
   "id": "3f9ccfe2",
   "metadata": {},
   "outputs": [
    {
     "ename": "NameError",
     "evalue": "name 'c' is not defined",
     "output_type": "error",
     "traceback": [
      "\u001b[1;31m---------------------------------------------------------------------------\u001b[0m",
      "\u001b[1;31mNameError\u001b[0m                                 Traceback (most recent call last)",
      "\u001b[1;32m<ipython-input-5-30dad546cce0>\u001b[0m in \u001b[0;36m<module>\u001b[1;34m\u001b[0m\n\u001b[1;32m----> 1\u001b[1;33m \u001b[0mstr\u001b[0m\u001b[1;33m(\u001b[0m\u001b[0mc\u001b[0m\u001b[1;33m)\u001b[0m\u001b[1;33m\u001b[0m\u001b[1;33m\u001b[0m\u001b[0m\n\u001b[0m",
      "\u001b[1;31mNameError\u001b[0m: name 'c' is not defined"
     ]
    }
   ],
   "source": [
    "str(c)"
   ]
  },
  {
   "cell_type": "code",
   "execution_count": 10,
   "id": "37dfcf39",
   "metadata": {},
   "outputs": [
    {
     "ename": "SyntaxError",
     "evalue": "'return' outside function (<ipython-input-10-4a1a3760731f>, line 10)",
     "output_type": "error",
     "traceback": [
      "\u001b[1;36m  File \u001b[1;32m\"<ipython-input-10-4a1a3760731f>\"\u001b[1;36m, line \u001b[1;32m10\u001b[0m\n\u001b[1;33m    return ans\u001b[0m\n\u001b[1;37m    ^\u001b[0m\n\u001b[1;31mSyntaxError\u001b[0m\u001b[1;31m:\u001b[0m 'return' outside function\n"
     ]
    }
   ],
   "source": [
    "def Function(x, epsilon):\n",
    "    \"\"\"Assumes x and epsilon are positive floats & epsilon < 1\n",
    "    Returns a y such that y*y is within epsilon of x\"\"\"\n",
    "    step = epsilon**2\n",
    "    ans = 0.0\n",
    "    while abs(ans**2 - x) >= epsilon and ans*ans <= x:\n",
    "        ans += step\n",
    "    if ans*ans > x:\n",
    "        raise ValueError\n",
    "return ans"
   ]
  },
  {
   "cell_type": "code",
   "execution_count": 18,
   "id": "469ba013",
   "metadata": {},
   "outputs": [
    {
     "data": {
      "text/plain": [
       "0.0"
      ]
     },
     "execution_count": 18,
     "metadata": {},
     "output_type": "execute_result"
    }
   ],
   "source": [
    "def Function(x, epsilon):\n",
    "    step = epsilon**2\n",
    "    ans = 0.0\n",
    "    while abs(ans**2 - x) >= epsilon and ans*ans <= x:\n",
    "        ans += step\n",
    "    if ans*ans > x:\n",
    "        raise ValueError\n",
    "    return ans\n",
    "Function(3,6)"
   ]
  },
  {
   "cell_type": "code",
   "execution_count": 24,
   "id": "8436f21f",
   "metadata": {},
   "outputs": [],
   "source": [
    "def close_far(a, b, c):\n",
    "\n",
    "    sum1 = abs(b-a)\n",
    "    sum2 = abs(c-a)\n",
    "    sum3 = abs(b-c)\n",
    "    if (sum1 <=1) & (sum2>=2) &(sum3>=2):\n",
    "            return True\n",
    "        "
   ]
  },
  {
   "cell_type": "code",
   "execution_count": null,
   "id": "d09dfc09",
   "metadata": {},
   "outputs": [],
   "source": []
  }
 ],
 "metadata": {
  "kernelspec": {
   "display_name": "Python 3",
   "language": "python",
   "name": "python3"
  },
  "language_info": {
   "codemirror_mode": {
    "name": "ipython",
    "version": 3
   },
   "file_extension": ".py",
   "mimetype": "text/x-python",
   "name": "python",
   "nbconvert_exporter": "python",
   "pygments_lexer": "ipython3",
   "version": "3.8.8"
  }
 },
 "nbformat": 4,
 "nbformat_minor": 5
}
