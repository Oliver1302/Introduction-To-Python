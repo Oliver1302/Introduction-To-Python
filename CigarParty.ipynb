{
 "cells": [
  {
   "cell_type": "code",
   "execution_count": 8,
   "id": "d303f4a5",
   "metadata": {},
   "outputs": [
    {
     "data": {
      "text/plain": [
       "(False, 'Below limit')"
      ]
     },
     "execution_count": 8,
     "metadata": {},
     "output_type": "execute_result"
    }
   ],
   "source": [
    "#Practice from codingbat.com Logic 1\n",
    "def cigar_party(cigars,is_weekend):\n",
    "    if cigars < 40:\n",
    "        return False , 'Below limit'\n",
    "    elif (40 <= cigars <= 60):\n",
    "        return True ,  'Party Enjoyed'\n",
    "    if (is_weekend == True and cigars > 40):\n",
    "        return True , 'Weekend Enjoyed'\n",
    "cigar_party(30,False)\n",
    "        \n",
    "        \n",
    "        "
   ]
  },
  {
   "cell_type": "code",
   "execution_count": 9,
   "id": "1270d888",
   "metadata": {},
   "outputs": [
    {
     "data": {
      "text/plain": [
       "(True, 'Party Enjoyed')"
      ]
     },
     "execution_count": 9,
     "metadata": {},
     "output_type": "execute_result"
    }
   ],
   "source": [
    "cigar_party(50,False)"
   ]
  },
  {
   "cell_type": "code",
   "execution_count": 10,
   "id": "ba73a461",
   "metadata": {},
   "outputs": [
    {
     "data": {
      "text/plain": [
       "(True, 'Weekend Enjoyed')"
      ]
     },
     "execution_count": 10,
     "metadata": {},
     "output_type": "execute_result"
    }
   ],
   "source": [
    "cigar_party(70,True)"
   ]
  },
  {
   "cell_type": "code",
   "execution_count": null,
   "id": "2c133756",
   "metadata": {},
   "outputs": [],
   "source": []
  },
  {
   "cell_type": "code",
   "execution_count": null,
   "id": "a4038df4",
   "metadata": {},
   "outputs": [],
   "source": []
  }
 ],
 "metadata": {
  "kernelspec": {
   "display_name": "Python 3",
   "language": "python",
   "name": "python3"
  },
  "language_info": {
   "codemirror_mode": {
    "name": "ipython",
    "version": 3
   },
   "file_extension": ".py",
   "mimetype": "text/x-python",
   "name": "python",
   "nbconvert_exporter": "python",
   "pygments_lexer": "ipython3",
   "version": "3.8.8"
  }
 },
 "nbformat": 4,
 "nbformat_minor": 5
}
