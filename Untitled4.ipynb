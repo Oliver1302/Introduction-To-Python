{
 "cells": [
  {
   "cell_type": "code",
   "execution_count": 10,
   "id": "8100a964",
   "metadata": {},
   "outputs": [],
   "source": [
    "CDS_Class = {'names':['Oliver','Mbugua'],'marks':[1,2]}"
   ]
  },
  {
   "cell_type": "code",
   "execution_count": 17,
   "id": "4919a51a",
   "metadata": {},
   "outputs": [
    {
     "data": {
      "text/plain": [
       "{'names': ['Oliver', 'Mbugua'], 'marks': [1, 2]}"
      ]
     },
     "execution_count": 17,
     "metadata": {},
     "output_type": "execute_result"
    }
   ],
   "source": [
    "CDS_Class"
   ]
  },
  {
   "cell_type": "code",
   "execution_count": 18,
   "id": "8c8400db",
   "metadata": {},
   "outputs": [],
   "source": [
    "#CREATING TUPLES\n",
    "\n",
    "tupple1 = (1,2,3,4,5,6,7,8,1)\n"
   ]
  },
  {
   "cell_type": "code",
   "execution_count": 23,
   "id": "8a5986ef",
   "metadata": {},
   "outputs": [
    {
     "data": {
      "text/plain": [
       "True"
      ]
     },
     "execution_count": 23,
     "metadata": {},
     "output_type": "execute_result"
    }
   ],
   "source": [
    "bool(2)"
   ]
  },
  {
   "cell_type": "code",
   "execution_count": 24,
   "id": "5d19df24",
   "metadata": {},
   "outputs": [],
   "source": [
    "#Creating a Set\n",
    "\n",
    "set1 = {1,2,3,4,5}\n",
    "\n",
    "list1 = {1,2,3,4,5}\n",
    "\n",
    "tuppl1 = (1,2,3,4,5)\n"
   ]
  },
  {
   "cell_type": "code",
   "execution_count": 51,
   "id": "48d2d071",
   "metadata": {},
   "outputs": [
    {
     "name": "stdout",
     "output_type": "stream",
     "text": [
      "[0]\n",
      "[0]\n",
      "[0]\n",
      "[0]\n",
      "[3]\n",
      "[0]\n",
      "[0]\n",
      "[2]\n",
      "[2]\n",
      "[0]\n",
      "[0]\n",
      "[2]\n",
      "[3]\n",
      "[0]\n",
      "[1]\n",
      "[1]\n",
      "[3]\n",
      "[0]\n",
      "[0]\n",
      "[2]\n"
     ]
    }
   ],
   "source": [
    "import random\n",
    "\n",
    "\n",
    "for lista in range(1,6):\n",
    "    for y in range(1,5):\n",
    "        lista=[]\n",
    "        lista.append(i)\n",
    "        i = (random.randrange(y))\n",
    "        print(lista)\n",
    "        "
   ]
  },
  {
   "cell_type": "code",
   "execution_count": 52,
   "id": "e6541c4f",
   "metadata": {},
   "outputs": [
    {
     "data": {
      "text/plain": [
       "[4334, 1647, 1727, 540, 1418]"
      ]
     },
     "execution_count": 52,
     "metadata": {},
     "output_type": "execute_result"
    }
   ],
   "source": [
    "listb = []\n",
    "import random\n",
    "\n",
    "for i in range(0,5):\n",
    "    listb.append(random.randint(1,5000))\n",
    "listb"
   ]
  },
  {
   "cell_type": "code",
   "execution_count": 56,
   "id": "91f18842",
   "metadata": {},
   "outputs": [
    {
     "data": {
      "text/plain": [
       "78"
      ]
     },
     "execution_count": 56,
     "metadata": {},
     "output_type": "execute_result"
    }
   ],
   "source": [
    "ord('N')"
   ]
  },
  {
   "cell_type": "code",
   "execution_count": 58,
   "id": "f0142e84",
   "metadata": {},
   "outputs": [
    {
     "data": {
      "text/plain": [
       "91"
      ]
     },
     "execution_count": 58,
     "metadata": {},
     "output_type": "execute_result"
    }
   ],
   "source": [
    "ord('[')"
   ]
  },
  {
   "cell_type": "code",
   "execution_count": 60,
   "id": "356fe190",
   "metadata": {},
   "outputs": [
    {
     "name": "stdout",
     "output_type": "stream",
     "text": [
      "78\n",
      "79\n",
      "80\n",
      "81\n",
      "82\n",
      "83\n",
      "84\n",
      "85\n",
      "86\n",
      "87\n",
      "88\n",
      "89\n",
      "90\n"
     ]
    }
   ],
   "source": [
    "for i in range(ord('N'),ord('[')):\n",
    "    print(i)"
   ]
  },
  {
   "cell_type": "code",
   "execution_count": 98,
   "id": "804262bd",
   "metadata": {},
   "outputs": [
    {
     "name": "stdout",
     "output_type": "stream",
     "text": [
      "[36, 83, 79, 95, 19, 50, 47, 82, 24, 21, 50, 32, 42, 17, 74, 38, 19, 58, 23, 73]\n",
      "[83, 79, 95, 19, 50, 47, 82, 24, 21, 50, 32, 42, 17, 74, 38, 19, 58, 23, 73]\n"
     ]
    }
   ],
   "source": [
    "import random\n",
    "\n",
    "listc=[]\n",
    "\n",
    "for i in range(0,20):\n",
    "    listc.append(random.randint(0,100))\n",
    "    \n",
    "    if list1[++1] \n",
    "    \n",
    "    \n",
    "print(listc)\n",
    "print(listc[1:])"
   ]
  },
  {
   "cell_type": "code",
   "execution_count": 103,
   "id": "90c942af",
   "metadata": {},
   "outputs": [
    {
     "ename": "IndexError",
     "evalue": "list index out of range",
     "output_type": "error",
     "traceback": [
      "\u001b[1;31m---------------------------------------------------------------------------\u001b[0m",
      "\u001b[1;31mIndexError\u001b[0m                                Traceback (most recent call last)",
      "\u001b[1;32m<ipython-input-103-1e60ee196937>\u001b[0m in \u001b[0;36m<module>\u001b[1;34m\u001b[0m\n\u001b[0;32m      8\u001b[0m     \u001b[1;32mfor\u001b[0m \u001b[0mi\u001b[0m \u001b[1;32min\u001b[0m \u001b[0mrange\u001b[0m\u001b[1;33m(\u001b[0m\u001b[1;36m0\u001b[0m\u001b[1;33m,\u001b[0m\u001b[1;36m20\u001b[0m\u001b[1;33m)\u001b[0m\u001b[1;33m:\u001b[0m\u001b[1;33m\u001b[0m\u001b[1;33m\u001b[0m\u001b[0m\n\u001b[0;32m      9\u001b[0m         \u001b[1;32mif\u001b[0m \u001b[0mi\u001b[0m\u001b[1;33m%\u001b[0m\u001b[1;36m2\u001b[0m\u001b[1;33m==\u001b[0m\u001b[1;36m0\u001b[0m\u001b[1;33m:\u001b[0m\u001b[1;33m\u001b[0m\u001b[1;33m\u001b[0m\u001b[0m\n\u001b[1;32m---> 10\u001b[1;33m             \u001b[0ml\u001b[0m\u001b[1;33m[\u001b[0m\u001b[0mi\u001b[0m\u001b[1;33m]\u001b[0m\u001b[1;33m=\u001b[0m\u001b[0ml\u001b[0m\u001b[1;33m[\u001b[0m\u001b[0mi\u001b[0m\u001b[1;33m]\u001b[0m\u001b[1;33m/\u001b[0m\u001b[1;36m2\u001b[0m\u001b[1;33m\u001b[0m\u001b[1;33m\u001b[0m\u001b[0m\n\u001b[0m\u001b[0;32m     11\u001b[0m \u001b[0ml\u001b[0m\u001b[1;33m\u001b[0m\u001b[1;33m\u001b[0m\u001b[0m\n\u001b[0;32m     12\u001b[0m \u001b[1;33m\u001b[0m\u001b[0m\n",
      "\u001b[1;31mIndexError\u001b[0m: list index out of range"
     ]
    }
   ],
   "source": [
    "import random\n",
    "\n",
    "l=[]\n",
    "\n",
    "for i in range(0,20):\n",
    "    l.append(random.randint(0,100))\n",
    "    \n",
    "    for i in range(0,20):\n",
    "        if i%2==0:\n",
    "            l[i]=l[i]/2\n",
    "l\n",
    "    \n",
    "    \n",
    "    \n",
    "    "
   ]
  },
  {
   "cell_type": "code",
   "execution_count": null,
   "id": "62d2954c",
   "metadata": {},
   "outputs": [],
   "source": []
  },
  {
   "cell_type": "code",
   "execution_count": 109,
   "id": "c4e77dd2",
   "metadata": {},
   "outputs": [
    {
     "data": {
      "text/plain": [
       "[2.0,\n",
       " 33,\n",
       " 46.0,\n",
       " 18,\n",
       " 40.0,\n",
       " 33,\n",
       " 16.0,\n",
       " 31,\n",
       " 42.5,\n",
       " 52,\n",
       " 10.0,\n",
       " 36,\n",
       " 41.0,\n",
       " 43,\n",
       " 23.5,\n",
       " 73,\n",
       " 17.0,\n",
       " 57,\n",
       " 21.0,\n",
       " 85]"
      ]
     },
     "execution_count": 109,
     "metadata": {},
     "output_type": "execute_result"
    }
   ],
   "source": [
    "import random\n",
    "l = []\n",
    "\n",
    "for i in range(0,20):\n",
    "    l.append(random.randint(0,100))\n",
    "for i in range(0,20):\n",
    "    if i%2 == 0:\n",
    "        l[i] = l[i]/2\n",
    "l"
   ]
  },
  {
   "cell_type": "code",
   "execution_count": 110,
   "id": "aadb1876",
   "metadata": {},
   "outputs": [
    {
     "data": {
      "text/plain": [
       "{'numbers': []}"
      ]
     },
     "execution_count": 110,
     "metadata": {},
     "output_type": "execute_result"
    }
   ],
   "source": [
    "class1= {'numbers':[]}\n",
    "class1"
   ]
  },
  {
   "cell_type": "code",
   "execution_count": 111,
   "id": "a2db512c",
   "metadata": {},
   "outputs": [],
   "source": [
    "list2=[2,3,4,5,6,7]"
   ]
  },
  {
   "cell_type": "code",
   "execution_count": 112,
   "id": "e24ee1f0",
   "metadata": {},
   "outputs": [],
   "source": [
    "class1['numbers']=list2"
   ]
  },
  {
   "cell_type": "code",
   "execution_count": 116,
   "id": "a57ed947",
   "metadata": {},
   "outputs": [
    {
     "data": {
      "text/plain": [
       "{'numbers': [2, 3, 4, 5, 6, 7]}"
      ]
     },
     "execution_count": 116,
     "metadata": {},
     "output_type": "execute_result"
    }
   ],
   "source": [
    "class1"
   ]
  },
  {
   "cell_type": "code",
   "execution_count": 117,
   "id": "8f8a0e28",
   "metadata": {},
   "outputs": [],
   "source": [
    "class1['numbers'].append(9)"
   ]
  },
  {
   "cell_type": "code",
   "execution_count": 118,
   "id": "9dc3e153",
   "metadata": {},
   "outputs": [
    {
     "data": {
      "text/plain": [
       "{'numbers': [2, 3, 4, 5, 6, 7, 9]}"
      ]
     },
     "execution_count": 118,
     "metadata": {},
     "output_type": "execute_result"
    }
   ],
   "source": [
    "class1"
   ]
  },
  {
   "cell_type": "code",
   "execution_count": 119,
   "id": "518526fb",
   "metadata": {},
   "outputs": [],
   "source": [
    "class1['numbers'].insert(2,44)"
   ]
  },
  {
   "cell_type": "code",
   "execution_count": 120,
   "id": "0c18595f",
   "metadata": {},
   "outputs": [
    {
     "data": {
      "text/plain": [
       "{'numbers': [2, 3, 44, 4, 5, 6, 7, 9]}"
      ]
     },
     "execution_count": 120,
     "metadata": {},
     "output_type": "execute_result"
    }
   ],
   "source": [
    "class1"
   ]
  },
  {
   "cell_type": "code",
   "execution_count": null,
   "id": "149a4994",
   "metadata": {},
   "outputs": [],
   "source": []
  }
 ],
 "metadata": {
  "kernelspec": {
   "display_name": "Python 3",
   "language": "python",
   "name": "python3"
  },
  "language_info": {
   "codemirror_mode": {
    "name": "ipython",
    "version": 3
   },
   "file_extension": ".py",
   "mimetype": "text/x-python",
   "name": "python",
   "nbconvert_exporter": "python",
   "pygments_lexer": "ipython3",
   "version": "3.8.8"
  }
 },
 "nbformat": 4,
 "nbformat_minor": 5
}
