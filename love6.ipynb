{
 "cells": [
  {
   "cell_type": "code",
   "execution_count": 9,
   "id": "d7786cd5",
   "metadata": {},
   "outputs": [
    {
     "data": {
      "text/plain": [
       "True"
      ]
     },
     "execution_count": 9,
     "metadata": {},
     "output_type": "execute_result"
    }
   ],
   "source": [
    "#Love_6 in codingbat.com\n",
    "\n",
    "def love_6(a,b):\n",
    "    if ((a or b) == 6):\n",
    "        return True\n",
    "    elif ((a+b) == 6):\n",
    "        return True\n",
    "    elif ((a-b) == 6):\n",
    "        return True\n",
    "    else:\n",
    "        return 'none is 6'\n",
    "    return\n",
    "love_6(6,4)\n",
    "\n"
   ]
  },
  {
   "cell_type": "code",
   "execution_count": 10,
   "id": "04509218",
   "metadata": {},
   "outputs": [
    {
     "data": {
      "text/plain": [
       "'none is 6'"
      ]
     },
     "execution_count": 10,
     "metadata": {},
     "output_type": "execute_result"
    }
   ],
   "source": [
    "love_6(4,5)"
   ]
  },
  {
   "cell_type": "code",
   "execution_count": 11,
   "id": "c8ce895e",
   "metadata": {},
   "outputs": [
    {
     "data": {
      "text/plain": [
       "True"
      ]
     },
     "execution_count": 11,
     "metadata": {},
     "output_type": "execute_result"
    }
   ],
   "source": [
    "love_6(1,5)"
   ]
  },
  {
   "cell_type": "code",
   "execution_count": 12,
   "id": "ecf1ebd5",
   "metadata": {},
   "outputs": [
    {
     "data": {
      "text/plain": [
       "True"
      ]
     },
     "execution_count": 12,
     "metadata": {},
     "output_type": "execute_result"
    }
   ],
   "source": [
    "love_6(16,10)"
   ]
  },
  {
   "cell_type": "code",
   "execution_count": 13,
   "id": "02a77f49",
   "metadata": {},
   "outputs": [
    {
     "data": {
      "text/plain": [
       "'none is 6'"
      ]
     },
     "execution_count": 13,
     "metadata": {},
     "output_type": "execute_result"
    }
   ],
   "source": [
    "love_6(2,2)"
   ]
  },
  {
   "cell_type": "code",
   "execution_count": null,
   "id": "ba8dc8e0",
   "metadata": {},
   "outputs": [],
   "source": []
  }
 ],
 "metadata": {
  "kernelspec": {
   "display_name": "Python 3",
   "language": "python",
   "name": "python3"
  },
  "language_info": {
   "codemirror_mode": {
    "name": "ipython",
    "version": 3
   },
   "file_extension": ".py",
   "mimetype": "text/x-python",
   "name": "python",
   "nbconvert_exporter": "python",
   "pygments_lexer": "ipython3",
   "version": "3.8.8"
  }
 },
 "nbformat": 4,
 "nbformat_minor": 5
}
